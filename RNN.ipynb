{
 "cells": [
  {
   "cell_type": "code",
   "execution_count": 1,
   "id": "c75475ea-3209-44a7-a566-3afd988ac35c",
   "metadata": {},
   "outputs": [],
   "source": [
    "import numpy as np\n",
    "import pandas as pd\n",
    "import matplotlib.pyplot as plt\n",
    "import random"
   ]
  },
  {
   "cell_type": "code",
   "execution_count": 220,
   "id": "63e47fc7-b846-4edb-b36c-310415b13e40",
   "metadata": {},
   "outputs": [],
   "source": [
    "class RNN:\n",
    "    # Weights\n",
    "    W = []\n",
    "    # Layers\n",
    "    M = []\n",
    "    # Bias\n",
    "    b = []\n",
    "    # Activation function for each layer\n",
    "    A = []\n",
    "    Yhat = []\n",
    "    costs = []\n",
    "    lossType = 'mse'\n",
    "    optimizer = 'none'\n",
    "    \n",
    "    def __init__(self):\n",
    "        self.reset()\n",
    "    \n",
    "    def __sigmoid(self, Z):\n",
    "        return 1 / (1 + np.exp(-Z))\n",
    "    \n",
    "    def __tanh(self, Z):\n",
    "        return np.tanh(Z)\n",
    "    \n",
    "    def __relu(self,Z):\n",
    "        return Z * (Z > 0)\n",
    "    \n",
    "    # Calls specified activation function\n",
    "    def __actf(self,Z,ty):\n",
    "        if ty == 'sigmoid':\n",
    "            return self.__sigmoid(Z)\n",
    "        elif ty == 'tanh':\n",
    "            return self.__tanh(Z)\n",
    "        elif ty == 'softmax':\n",
    "            return self.__softmax(Z)\n",
    "        elif ty == 'none':\n",
    "            return Z\n",
    "        else:# ty == 'relu':\n",
    "            return self.__relu(Z)\n",
    "        \n",
    "        # Calls specified activation function derivative\n",
    "    def __actf_dv(self,Z,ty):\n",
    "        if ty == 'sigmoid':\n",
    "            return Z*(1-Z)\n",
    "        elif ty == 'tanh':\n",
    "            return (1-Z*Z)\n",
    "        elif ty == 'none':\n",
    "            return Z\n",
    "        else:# ty == 'relu':\n",
    "            return np.where(Z > 0, 1, 0)\n",
    "        \n",
    "    def __softmax(self,A):\n",
    "        expA = np.exp(A)\n",
    "        return expA / expA.sum(axis=1,keepdims=True)\n",
    "    \n",
    "    # Cross-entropy cost for softmax\n",
    "    def __cost(self,T,Y,ty):\n",
    "        if ty == 'ce':\n",
    "            return self.__cross_entropy(T,Y)\n",
    "        elif ty == 'mse':\n",
    "            return self.__mean_squared(T,Y)\n",
    "    \n",
    "    def __cross_entropy(self,T,Y):\n",
    "        tot = (-T * np.log(Y))\n",
    "        return tot.sum()\n",
    "    \n",
    "    def __mean_squared(self,T,Y):\n",
    "        tot = np.square(T - Y)\n",
    "        return tot.sum()\n",
    "    \n",
    "    def classification_rate(self,T):\n",
    "        Yhat = NeuralNetwork.Yhat\n",
    "        Yp = np.argmax(Yhat,axis=1)\n",
    "        print('Classification rate: ', np.mean(T == Yp))\n",
    "    \n",
    "    # Adds hidden layer with L nodes, d dropout\n",
    "    def add_layer(self,L,a='sigmoid'):\n",
    "        self.M.append(L)\n",
    "        self.A.append(a)\n",
    "        \n",
    "    def __shuffle(self,X,Y):\n",
    "        assert len(X) == len(Y)\n",
    "        p = np.random.permutation(len(X))\n",
    "        return X[p],Y[p]\n",
    "        \n",
    "            \n",
    "    # Parameters(M:Layers,W:Weights,b:bias,A:activation function,D:Dropout)\n",
    "    def __forward(self,M,W,b,A):\n",
    "        Y = []\n",
    "        yp = []\n",
    "        X = M[0]\n",
    "        \n",
    "        for i in range(len(X)):\n",
    "            \n",
    "            ht_prev = M[1][i]\n",
    "            for t in range(len(X[i])):\n",
    "                ht = self.__actf((X[i][t].dot(W[0]) + ht_prev.dot(W[1]) + b[0]),A[0])\n",
    "                yp.append(ht.dot(W[2]) + b[1])\n",
    "                #yp = softmax(yp)\n",
    "                ht_prev = ht\n",
    "                \n",
    "            M[1][i] = ht\n",
    "            Y.append(yp[i][-1])\n",
    "        \n",
    "        Y = np.array(Y).reshape(len(Y),-1)\n",
    "        M[2] = Y\n",
    "        return Y,M\n",
    "    \n",
    "    def fit(self,X,Y,epochs=20000,batchSize=0,learnR=10e-6,reg=0,lossType='mse',optimizer='none'):\n",
    "        W = self.W\n",
    "        b = self.b\n",
    "        M = self.M\n",
    "        A = self.A\n",
    "        \n",
    "        # Initialize layers for M\n",
    "        N = X.shape[0]\n",
    "        M[0] = np.random.randn(N,M[0])\n",
    "            \n",
    "        # Add input and layer to M\n",
    "        K = Y.shape[1]\n",
    "        M.insert(0,X)\n",
    "        M.append(np.random.randn(N,K))\n",
    "        A.append('none')\n",
    "        l = learnR\n",
    "        \n",
    "        # Regulate batch size\n",
    "        batchSize = min(batchSize, N)\n",
    "        batchSize = max(batchSize, 1)\n",
    "            \n",
    "        # Set weights\n",
    "        for i in range(len(M)-1):\n",
    "            if i == (len(M)-2):\n",
    "\n",
    "                W.append(np.random.randn(M[i].shape[1],K) / np.sqrt(M[i].shape[1] + K))\n",
    "                b.append(np.random.randn(K) / np.sqrt(K))\n",
    "            else:\n",
    "                # input to hidden\n",
    "                W.append(np.random.randn(M[i][i].shape[1],M[i+1].shape[1]) / np.sqrt(M[i][i].shape[1] + M[i+1].shape[1]))\n",
    "                b.append(np.random.randn(M[i+1].shape[1]) / np.sqrt(M[i+1].shape[1]))\n",
    "                # hidden to hidden\n",
    "                W.append(np.random.randn(M[i+1].shape[1],M[i+1].shape[1]) / np.sqrt(M[i+1].shape[1] + M[i+1].shape[1]))\n",
    "                b.append(np.random.randn(M[i+1].shape[1]) / np.sqrt(M[i+1].shape[1]))\n",
    "        # Set cache (if using rmsprop/adam)\n",
    "        if optimizer == 'rms':\n",
    "            wCache = []\n",
    "            bCache = []\n",
    "            eps = 10e-8\n",
    "            decay = 0.99\n",
    "            for i in range(len(M)-1):\n",
    "                if i == (len(M)-2):\n",
    "                    wCache.append(np.ones((M[i].shape[1],K)))\n",
    "                    bCache.append(np.ones((K)))\n",
    "                else:\n",
    "                    wCache.append(np.ones((M[i].shape[1],M[i+1].shape[1])))\n",
    "                    bCache.append(np.ones((M[i+1].shape[1])))\n",
    "        elif optimizer == 'adam':\n",
    "            wM = []\n",
    "            wV = []\n",
    "            bM = []\n",
    "            bV = []\n",
    "            eps = 10e-8\n",
    "            decay1 = 0.9\n",
    "            decay2 = 0.999\n",
    "            for i in range(len(M)-1):\n",
    "                if i == (len(M)-2):\n",
    "                    wM.append(np.zeros((M[i].shape[1],K)))\n",
    "                    wV.append(np.zeros((M[i].shape[1],K)))\n",
    "                    bM.append(np.zeros((K)))\n",
    "                    bV.append(np.zeros((K)))\n",
    "                else:\n",
    "                    wM.append(np.zeros((M[i].shape[1],M[i+1].shape[1])))\n",
    "                    wV.append(np.zeros((M[i].shape[1],M[i+1].shape[1])))\n",
    "                    bM.append(np.zeros((M[i+1].shape[1])))\n",
    "                    bV.append(np.zeros((M[i+1].shape[1])))\n",
    "        \n",
    "        costs = []\n",
    "        for e in range(epochs):\n",
    "            iterations = N // batchSize\n",
    "            #X,Y,y = self.__shuffle(X,Y,y)\n",
    "            for i in range(iterations):\n",
    "                start = i * batchSize\n",
    "                end = (i+1) * batchSize\n",
    "                batchX, batchY = X[start:end],Y[start:end]\n",
    "                del M[0]\n",
    "                M.insert(0,batchX)\n",
    "                #print(sparceY)\n",
    "                Yp,M = self.__forward(M,W,b,A)\n",
    "                \n",
    "                Z = M\n",
    "                #cost = self.__cost(Y,Yp)\n",
    "                cost = self.__cost(batchY,Yp,lossType)\n",
    "                costs.append(cost)\n",
    "                \n",
    "\n",
    "                # Adjust weights\n",
    "                #S = (Y - Yp)\n",
    "                S = (batchY - Yp)\n",
    "                n = len(M)-2\n",
    "                Zt = S\n",
    "                for i in range(len(M)-1):\n",
    "                    # Weight and bias derivative\n",
    "                    if n == 0:\n",
    "                        dw1 = Z[n].T.dot(Zt)\n",
    "                        dw1 = dw1[0][-1]\n",
    "                        db1 = Zt.sum()\n",
    "                    dw = Z[1].T.dot(Zt)\n",
    "                    db = Zt.sum()\n",
    "                    #print(i, n)\n",
    "                    #print(f\"M[{n}]: {Z[n].shape}, Zt: {Zt.shape}, M.T.dot(Zt): {(Z[n].T.dot(Zt)).shape}, W[{n}]: {W[n].shape}\")\n",
    "                    if optimizer == 'none':\n",
    "                        if n == 0:\n",
    "                            W[n] += l * (dw1 - reg*W[n])\n",
    "                            b[n] += l * (db1 - reg*b[n])\n",
    "                        #print(f\"W[{n+1}]: {W[n+1].shape}, dw: {dw.shape}\")\n",
    "                        W[n+1] += l * (dw - reg*W[n+1])\n",
    "                        b[n+1] += l * (db - reg*b[n+1])\n",
    "                    elif optimizer == 'rms':\n",
    "                        # rmsprop\n",
    "                        wCache[n] = (decay * wCache[n]) + (1-decay) * np.square(dw)\n",
    "                        bCache[n] = (decay * bCache[n]) + (1-decay) * np.square(db)\n",
    "                        wDenominator = np.sqrt(wCache[n]) + eps\n",
    "                        bDenominator = np.sqrt(bCache[n]) + eps\n",
    "                        \n",
    "                        W[n] += l * ((dw/wDenominator) - reg*W[n])\n",
    "                        b[n] += l * ((db/bDenominator) - reg*b[n])\n",
    "                    elif optimizer == 'adam':\n",
    "                        \n",
    "                        #print(wM.shape)\n",
    "                        wM[n] = (decay1 * wM[n]) + (1-decay1) * dw\n",
    "                        wV[n] = (decay1 * wV[n]) + (1-decay1) * np.square(dw)\n",
    "                        bM[n] = (decay2 * bM[n]) + (1-decay2) * db\n",
    "                        bV[n] = (decay2 * bV[n]) + (1-decay2) * np.square(db)\n",
    "                        wMhat = wM[n]/(1-decay1**(epochs+1))\n",
    "                        wVhat = wV[n]/(1-decay1**(epochs+1))\n",
    "                        bMhat = bM[n]/(1-decay2**(epochs+1))\n",
    "                        bVhat = bV[n]/(1-decay2**(epochs+1))\n",
    "                        wDenom = np.sqrt(wVhat) + eps\n",
    "                        bDenom = np.sqrt(bVhat) + eps\n",
    "                        #print(W[n].shape, wM[n].shape, wDenom.shape)\n",
    "                        W[n] += l * ((wMhat/wDenom) - reg*W[n])\n",
    "                        b[n] += l * ((bMhat/bDenom) - reg*b[n])\n",
    "                    \n",
    "                    if i == 0:\n",
    "                        #print(f\"actf: {A[n]}\")\n",
    "                        Zt = Zt.dot(W[n+1].T)*self.__actf_dv(Z[n],A[n-1])\n",
    "                    elif i != (len(M)-2):\n",
    "                        #Update Zt\n",
    "                        #print(\"In else\")\n",
    "                        #print(f\"actf: {A[n-1]}\")\n",
    "                        Zt = Zt.dot(W[n].T)*self.__actf_dv(Z[n],A[n-1])\n",
    "\n",
    "                    n -= 1\n",
    "            if e % 100 == 0:\n",
    "                print(e,costs[-1])\n",
    "        self.W = W\n",
    "        self.b = b\n",
    "        self.M = M\n",
    "        self.Yhat = Yp\n",
    "        self.costs = costs\n",
    "    \n",
    "    def predict(self,X):\n",
    "        W = self.W\n",
    "        b = self.b\n",
    "        M = self.M\n",
    "        A = self.A\n",
    "        del M[0]\n",
    "        M.insert(0,X)\n",
    "        Yp,Z = self.__forward(M,W,b,A,D)\n",
    "        NeuralNetwork.Yhat = Yp\n",
    "        return Yp\n",
    "    \n",
    "    def plot_cost(self):\n",
    "        costs = self.costs\n",
    "        plt.plot(costs)\n",
    "        plt.show()\n",
    "    \n",
    "    def reset(self):\n",
    "        self.W = []\n",
    "        self.b = []\n",
    "        self.M = []\n",
    "        self.A = []\n",
    "        self.lossType = 'mse'\n",
    "        self.optimizer = 'none'\n",
    "        self.Yhat = []\n",
    "        self.costs = []"
   ]
  },
  {
   "cell_type": "code",
   "execution_count": 221,
   "id": "edcd0b4a-c114-466b-bb4a-09ccf1ecfc9a",
   "metadata": {},
   "outputs": [],
   "source": [
    "series = np.sin(0.1*np.arange(200))"
   ]
  },
  {
   "cell_type": "code",
   "execution_count": 222,
   "id": "ceffba9f-2d75-4591-bd40-ab1cf0e254d5",
   "metadata": {},
   "outputs": [],
   "source": [
    "T = 10\n",
    "X = []\n",
    "Y = []\n",
    "for t in range(len(series) - T):\n",
    "    x = series[t:t+T]\n",
    "    X.append(x)\n",
    "    y = series[t+T]\n",
    "    Y.append(y)\n",
    "\n",
    "X = np.array(X).reshape(-1,T,1)\n",
    "Y = np.array(Y).reshape(len(Y),-1)\n",
    "N = len(X)"
   ]
  },
  {
   "cell_type": "code",
   "execution_count": 223,
   "id": "53e3cddc-8a25-4569-a608-277471a89e34",
   "metadata": {},
   "outputs": [],
   "source": [
    "model = RNN()"
   ]
  },
  {
   "cell_type": "code",
   "execution_count": 224,
   "id": "962e2cbd-19fb-4731-967a-8c90c73135c3",
   "metadata": {},
   "outputs": [],
   "source": [
    "model.add_layer(15,'tanh')"
   ]
  },
  {
   "cell_type": "code",
   "execution_count": 225,
   "id": "a4a02d70-09c2-42b8-8720-8b61b171ff98",
   "metadata": {
    "tags": []
   },
   "outputs": [
    {
     "name": "stdout",
     "output_type": "stream",
     "text": [
      "0 138.1562779608925\n",
      "100 8.864082447633998e+52\n",
      "200 2.4097914963744495e+106\n",
      "300 6.551264713866248e+159\n",
      "400 1.7810283344314965e+213\n",
      "500 4.841907733226208e+266\n"
     ]
    },
    {
     "name": "stderr",
     "output_type": "stream",
     "text": [
      "C:\\Users\\justi\\anaconda3\\lib\\site-packages\\numpy\\core\\_methods.py:47: RuntimeWarning: overflow encountered in reduce\n",
      "  return umr_sum(a, axis, dtype, out, keepdims, initial, where)\n",
      "C:\\Users\\justi\\AppData\\Local\\Temp/ipykernel_98376/1966523942.py:67: RuntimeWarning: overflow encountered in square\n",
      "  tot = np.square(T - Y)\n",
      "C:\\Users\\justi\\AppData\\Local\\Temp/ipykernel_98376/1966523942.py:244: RuntimeWarning: invalid value encountered in multiply\n",
      "  Zt = Zt.dot(W[n+1].T)*self.__actf_dv(Z[n],A[n-1])\n"
     ]
    },
    {
     "name": "stdout",
     "output_type": "stream",
     "text": [
      "600 nan\n",
      "700 nan\n",
      "800 nan\n",
      "900 nan\n",
      "1000 nan\n",
      "1100 nan\n",
      "1200 nan\n",
      "1300 nan\n",
      "1400 nan\n",
      "1500 nan\n",
      "1600 nan\n",
      "1700 nan\n",
      "1800 nan\n"
     ]
    },
    {
     "ename": "KeyboardInterrupt",
     "evalue": "",
     "output_type": "error",
     "traceback": [
      "\u001b[1;31m---------------------------------------------------------------------------\u001b[0m",
      "\u001b[1;31mKeyboardInterrupt\u001b[0m                         Traceback (most recent call last)",
      "\u001b[1;32m~\\AppData\\Local\\Temp/ipykernel_98376/140833899.py\u001b[0m in \u001b[0;36m<module>\u001b[1;34m\u001b[0m\n\u001b[0;32m      7\u001b[0m \u001b[0mreg\u001b[0m \u001b[1;33m=\u001b[0m \u001b[1;36m0\u001b[0m\u001b[1;33m\u001b[0m\u001b[1;33m\u001b[0m\u001b[0m\n\u001b[0;32m      8\u001b[0m \u001b[0moptimizer\u001b[0m \u001b[1;33m=\u001b[0m \u001b[1;34m'none'\u001b[0m\u001b[1;33m\u001b[0m\u001b[1;33m\u001b[0m\u001b[0m\n\u001b[1;32m----> 9\u001b[1;33m \u001b[0mmodel\u001b[0m\u001b[1;33m.\u001b[0m\u001b[0mfit\u001b[0m\u001b[1;33m(\u001b[0m\u001b[0mX\u001b[0m\u001b[1;33m,\u001b[0m\u001b[0mY\u001b[0m\u001b[1;33m,\u001b[0m\u001b[0mepochs\u001b[0m\u001b[1;33m,\u001b[0m\u001b[0mbatchSize\u001b[0m\u001b[1;33m,\u001b[0m\u001b[0mlearnR\u001b[0m\u001b[1;33m,\u001b[0m\u001b[0mlossType\u001b[0m\u001b[1;33m=\u001b[0m\u001b[0mlossType\u001b[0m\u001b[1;33m,\u001b[0m\u001b[0moptimizer\u001b[0m\u001b[1;33m=\u001b[0m\u001b[0moptimizer\u001b[0m\u001b[1;33m)\u001b[0m\u001b[1;33m\u001b[0m\u001b[1;33m\u001b[0m\u001b[0m\n\u001b[0m",
      "\u001b[1;32m~\\AppData\\Local\\Temp/ipykernel_98376/1966523942.py\u001b[0m in \u001b[0;36mfit\u001b[1;34m(self, X, Y, epochs, batchSize, learnR, reg, lossType, optimizer)\u001b[0m\n\u001b[0;32m    184\u001b[0m                 \u001b[0mM\u001b[0m\u001b[1;33m.\u001b[0m\u001b[0minsert\u001b[0m\u001b[1;33m(\u001b[0m\u001b[1;36m0\u001b[0m\u001b[1;33m,\u001b[0m\u001b[0mbatchX\u001b[0m\u001b[1;33m)\u001b[0m\u001b[1;33m\u001b[0m\u001b[1;33m\u001b[0m\u001b[0m\n\u001b[0;32m    185\u001b[0m                 \u001b[1;31m#print(sparceY)\u001b[0m\u001b[1;33m\u001b[0m\u001b[1;33m\u001b[0m\u001b[1;33m\u001b[0m\u001b[0m\n\u001b[1;32m--> 186\u001b[1;33m                 \u001b[0mYp\u001b[0m\u001b[1;33m,\u001b[0m\u001b[0mM\u001b[0m \u001b[1;33m=\u001b[0m \u001b[0mself\u001b[0m\u001b[1;33m.\u001b[0m\u001b[0m__forward\u001b[0m\u001b[1;33m(\u001b[0m\u001b[0mM\u001b[0m\u001b[1;33m,\u001b[0m\u001b[0mW\u001b[0m\u001b[1;33m,\u001b[0m\u001b[0mb\u001b[0m\u001b[1;33m,\u001b[0m\u001b[0mA\u001b[0m\u001b[1;33m)\u001b[0m\u001b[1;33m\u001b[0m\u001b[1;33m\u001b[0m\u001b[0m\n\u001b[0m\u001b[0;32m    187\u001b[0m \u001b[1;33m\u001b[0m\u001b[0m\n\u001b[0;32m    188\u001b[0m                 \u001b[0mZ\u001b[0m \u001b[1;33m=\u001b[0m \u001b[0mM\u001b[0m\u001b[1;33m\u001b[0m\u001b[1;33m\u001b[0m\u001b[0m\n",
      "\u001b[1;32m~\\AppData\\Local\\Temp/ipykernel_98376/1966523942.py\u001b[0m in \u001b[0;36m__forward\u001b[1;34m(self, M, W, b, A)\u001b[0m\n\u001b[0;32m     95\u001b[0m             \u001b[1;32mfor\u001b[0m \u001b[0mt\u001b[0m \u001b[1;32min\u001b[0m \u001b[0mrange\u001b[0m\u001b[1;33m(\u001b[0m\u001b[0mlen\u001b[0m\u001b[1;33m(\u001b[0m\u001b[0mX\u001b[0m\u001b[1;33m[\u001b[0m\u001b[0mi\u001b[0m\u001b[1;33m]\u001b[0m\u001b[1;33m)\u001b[0m\u001b[1;33m)\u001b[0m\u001b[1;33m:\u001b[0m\u001b[1;33m\u001b[0m\u001b[1;33m\u001b[0m\u001b[0m\n\u001b[0;32m     96\u001b[0m                 \u001b[0mht\u001b[0m \u001b[1;33m=\u001b[0m \u001b[0mself\u001b[0m\u001b[1;33m.\u001b[0m\u001b[0m__actf\u001b[0m\u001b[1;33m(\u001b[0m\u001b[1;33m(\u001b[0m\u001b[0mX\u001b[0m\u001b[1;33m[\u001b[0m\u001b[0mi\u001b[0m\u001b[1;33m]\u001b[0m\u001b[1;33m[\u001b[0m\u001b[0mt\u001b[0m\u001b[1;33m]\u001b[0m\u001b[1;33m.\u001b[0m\u001b[0mdot\u001b[0m\u001b[1;33m(\u001b[0m\u001b[0mW\u001b[0m\u001b[1;33m[\u001b[0m\u001b[1;36m0\u001b[0m\u001b[1;33m]\u001b[0m\u001b[1;33m)\u001b[0m \u001b[1;33m+\u001b[0m \u001b[0mht_prev\u001b[0m\u001b[1;33m.\u001b[0m\u001b[0mdot\u001b[0m\u001b[1;33m(\u001b[0m\u001b[0mW\u001b[0m\u001b[1;33m[\u001b[0m\u001b[1;36m1\u001b[0m\u001b[1;33m]\u001b[0m\u001b[1;33m)\u001b[0m \u001b[1;33m+\u001b[0m \u001b[0mb\u001b[0m\u001b[1;33m[\u001b[0m\u001b[1;36m0\u001b[0m\u001b[1;33m]\u001b[0m\u001b[1;33m)\u001b[0m\u001b[1;33m,\u001b[0m\u001b[0mA\u001b[0m\u001b[1;33m[\u001b[0m\u001b[1;36m0\u001b[0m\u001b[1;33m]\u001b[0m\u001b[1;33m)\u001b[0m\u001b[1;33m\u001b[0m\u001b[1;33m\u001b[0m\u001b[0m\n\u001b[1;32m---> 97\u001b[1;33m                 \u001b[0myp\u001b[0m\u001b[1;33m.\u001b[0m\u001b[0mappend\u001b[0m\u001b[1;33m(\u001b[0m\u001b[0mht\u001b[0m\u001b[1;33m.\u001b[0m\u001b[0mdot\u001b[0m\u001b[1;33m(\u001b[0m\u001b[0mW\u001b[0m\u001b[1;33m[\u001b[0m\u001b[1;36m2\u001b[0m\u001b[1;33m]\u001b[0m\u001b[1;33m)\u001b[0m \u001b[1;33m+\u001b[0m \u001b[0mb\u001b[0m\u001b[1;33m[\u001b[0m\u001b[1;36m1\u001b[0m\u001b[1;33m]\u001b[0m\u001b[1;33m)\u001b[0m\u001b[1;33m\u001b[0m\u001b[1;33m\u001b[0m\u001b[0m\n\u001b[0m\u001b[0;32m     98\u001b[0m                 \u001b[1;31m#yp = softmax(yp)\u001b[0m\u001b[1;33m\u001b[0m\u001b[1;33m\u001b[0m\u001b[1;33m\u001b[0m\u001b[0m\n\u001b[0;32m     99\u001b[0m                 \u001b[0mht_prev\u001b[0m \u001b[1;33m=\u001b[0m \u001b[0mht\u001b[0m\u001b[1;33m\u001b[0m\u001b[1;33m\u001b[0m\u001b[0m\n",
      "\u001b[1;31mKeyboardInterrupt\u001b[0m: "
     ]
    }
   ],
   "source": [
    "# (X, Y, loss type, # iterations, batch size, learning rate, regulization)\n",
    "# Loss type('ce': cross-entropy, 'sce': sparse cross-entropy)\n",
    "lossType = 'mse'\n",
    "epochs = 20000\n",
    "batchSize = N\n",
    "learnR = 10e-4\n",
    "reg = 0\n",
    "optimizer = 'none'\n",
    "model.fit(X,Y,epochs,batchSize,learnR,lossType=lossType,optimizer=optimizer)"
   ]
  },
  {
   "cell_type": "code",
   "execution_count": 197,
   "id": "4fdc3ff2-8c26-4e06-a62e-30f21b5048e0",
   "metadata": {},
   "outputs": [
    {
     "data": {
      "text/plain": [
       "(1, 15)"
      ]
     },
     "execution_count": 197,
     "metadata": {},
     "output_type": "execute_result"
    }
   ],
   "source": [
    "W[0].shape"
   ]
  },
  {
   "cell_type": "markdown",
   "id": "4e17df64-6399-4424-852e-d523b6585c55",
   "metadata": {},
   "source": [
    "## Individual methods / testing"
   ]
  },
  {
   "cell_type": "code",
   "execution_count": 60,
   "id": "83661aee-e86d-4598-9ee0-72325a5fb5cb",
   "metadata": {},
   "outputs": [],
   "source": [
    "def forward(X,M,W,b):\n",
    "    Y = []\n",
    "    yp = []\n",
    "    ht_prev = M[0]\n",
    "    for i in range(len(X)):\n",
    "        for t in range(len(X[i])):\n",
    "            ht = tanh((X[i][t].dot(W[0]) + ht_prev.dot(W[1]) + b[0]))\n",
    "            yp.append(ht.dot(W[2]) + b[1])\n",
    "            #yp = softmax(yp)\n",
    "            ht_prev = ht\n",
    "                   \n",
    "        Y.append(yp[i][-1])\n",
    "    \n",
    "    Y = np.array(Y).reshape(len(Y),-1)               \n",
    "    return Y,ht"
   ]
  },
  {
   "cell_type": "code",
   "execution_count": 61,
   "id": "37e88d33-dda1-4a36-9d0f-467dce3af48c",
   "metadata": {},
   "outputs": [],
   "source": [
    "def mse(T,Y):\n",
    "    tot = np.square(T - Y)\n",
    "    return tot.sum()"
   ]
  },
  {
   "cell_type": "code",
   "execution_count": 62,
   "id": "166f9d8f-e977-4493-8451-dd7c46aaf907",
   "metadata": {},
   "outputs": [],
   "source": [
    "def sigmoid(Z):\n",
    "    return 1 / (1 + np.exp(-Z))"
   ]
  },
  {
   "cell_type": "code",
   "execution_count": 63,
   "id": "ebd10bfc-7abd-484f-83e1-8041c8a45b2b",
   "metadata": {},
   "outputs": [],
   "source": [
    "def tanh(Z):\n",
    "    return np.tanh(Z)"
   ]
  },
  {
   "cell_type": "code",
   "execution_count": 64,
   "id": "cb8a3037-4381-47e2-9f56-b510877a8bd8",
   "metadata": {},
   "outputs": [],
   "source": [
    "def actf_dv(Z):\n",
    "    return Z*(1-Z)"
   ]
  },
  {
   "cell_type": "code",
   "execution_count": 65,
   "id": "80cdfdc4-be04-4652-b93d-eee1310e1113",
   "metadata": {},
   "outputs": [],
   "source": [
    "def softmax(A):\n",
    "    expA = np.exp(A)\n",
    "    return expA / expA.sum(axis=1,keepdims=True)"
   ]
  },
  {
   "cell_type": "code",
   "execution_count": 88,
   "id": "faace7dc-25e0-482b-abc6-46ff3753b2d3",
   "metadata": {},
   "outputs": [],
   "source": [
    "series = np.sin(0.1*np.arange(200))"
   ]
  },
  {
   "cell_type": "code",
   "execution_count": 89,
   "id": "c60d2dc3-a84a-4d44-b75a-01885e86d341",
   "metadata": {},
   "outputs": [],
   "source": [
    "T = 10\n",
    "D = 1\n",
    "H = 15\n",
    "X = []\n",
    "Y = []\n",
    "for t in range(len(series) - T):\n",
    "    x = series[t:t+T]\n",
    "    X.append(x)\n",
    "    y = series[t+T]\n",
    "    Y.append(y)\n",
    "\n",
    "X = np.array(X).reshape(-1,T,1)\n",
    "Y = np.array(Y).reshape(len(Y),-1)\n",
    "N = len(X)"
   ]
  },
  {
   "cell_type": "code",
   "execution_count": 90,
   "id": "de7bc684-77da-4cf2-98e5-f79827170bde",
   "metadata": {},
   "outputs": [],
   "source": [
    "A = np.random.randn(1,10,1)"
   ]
  },
  {
   "cell_type": "code",
   "execution_count": 91,
   "id": "db9b599d-e428-4bfe-a8ab-1455f9088028",
   "metadata": {},
   "outputs": [],
   "source": [
    "a = A[0]"
   ]
  },
  {
   "cell_type": "code",
   "execution_count": 92,
   "id": "85b0d979-e4e0-4c98-ad00-66f8b6533e88",
   "metadata": {},
   "outputs": [
    {
     "data": {
      "text/plain": [
       "array([2.04200149])"
      ]
     },
     "execution_count": 92,
     "metadata": {},
     "output_type": "execute_result"
    }
   ],
   "source": [
    "a[0]"
   ]
  },
  {
   "cell_type": "code",
   "execution_count": 93,
   "id": "482461f3-4f54-47a8-9331-2cc1950e0f8e",
   "metadata": {},
   "outputs": [],
   "source": [
    "# Initialize layers for M\n",
    "M = []\n",
    "W = []\n",
    "b = []\n",
    "M.append(np.zeros((N,H)))\n",
    "\n",
    "# Add input and layer to M\n",
    "K = 1\n",
    "M.insert(0,X)\n",
    "M.append(np.random.randn(N,K))"
   ]
  },
  {
   "cell_type": "code",
   "execution_count": 94,
   "id": "b7035faa-a658-4e43-9847-cca67da68738",
   "metadata": {},
   "outputs": [],
   "source": [
    "# Set weights\n",
    "W = []\n",
    "b = []\n",
    "for i in range(len(M)-1):\n",
    "    if i == (len(M)-2):\n",
    "        \n",
    "        W.append(np.random.randn(M[i].shape[1],K) / np.sqrt(M[i].shape[1] + K))\n",
    "        b.append(np.random.randn(K) / np.sqrt(K))\n",
    "    else:\n",
    "        # input to hidden\n",
    "        W.append(np.random.randn(M[i][i].shape[1],M[i+1].shape[1]) / np.sqrt(M[i][i].shape[1] + M[i+1].shape[1]))\n",
    "        b.append(np.random.randn(M[i+1].shape[1]) / np.sqrt(M[i+1].shape[1]))\n",
    "        # hidden to hidden\n",
    "        W.append(np.random.randn(M[i+1].shape[1],M[i+1].shape[1]) / np.sqrt(M[i+1].shape[1] + M[i+1].shape[1]))\n",
    "        b.append(np.random.randn(M[i+1].shape[1]) / np.sqrt(M[i+1].shape[1]))"
   ]
  },
  {
   "cell_type": "code",
   "execution_count": 95,
   "id": "d41fce2f-266c-4815-b91c-47ce0539b555",
   "metadata": {},
   "outputs": [],
   "source": [
    "x = M[0]"
   ]
  },
  {
   "cell_type": "code",
   "execution_count": 19,
   "id": "6a266422-a58c-475a-b6e3-5e7d37824d46",
   "metadata": {},
   "outputs": [],
   "source": [
    "b = np.random.randn(1,10,15)"
   ]
  },
  {
   "cell_type": "code",
   "execution_count": 22,
   "id": "f839c8f9-5a4f-4679-bfaa-b8ca89788431",
   "metadata": {
    "collapsed": true,
    "jupyter": {
     "outputs_hidden": true
    },
    "tags": []
   },
   "outputs": [
    {
     "data": {
      "text/plain": [
       "array([[[ 0.44200743, -0.6221953 , -1.27410177,  1.26456843,\n",
       "         -0.64982435,  0.45493263, -0.56078996,  0.03988918,\n",
       "          0.0397615 ,  0.61914404,  2.36833784, -0.24362468,\n",
       "          0.22429747, -2.06008626, -0.06760491],\n",
       "        [ 1.1015764 , -0.49692002, -0.55322785,  1.19348815,\n",
       "         -1.12109738,  0.3068998 , -0.8551629 ,  1.5157507 ,\n",
       "          0.38804492, -1.78897041, -0.81887887, -0.26092485,\n",
       "          0.07020068,  0.85390389,  1.4716075 ],\n",
       "        [-0.11536702, -0.11996291,  0.23865434,  0.73599471,\n",
       "          1.96379917, -0.61052491, -0.48869941, -0.65067759,\n",
       "          0.87323981, -0.17860095, -0.01826198,  1.8690311 ,\n",
       "          1.2128043 ,  0.88699153,  0.39825832],\n",
       "        [-1.20107721, -0.24706758,  0.73324711,  1.33829827,\n",
       "          1.4928222 , -0.96264587, -1.53667949,  0.65303322,\n",
       "          1.90391769,  2.59029672, -0.28770825,  0.20816797,\n",
       "          1.15490389, -0.27788582, -0.48417521],\n",
       "        [ 1.57830648,  0.7344579 ,  0.84168023, -0.18405687,\n",
       "          0.50689067, -0.42012516,  1.42825277,  1.39969943,\n",
       "          0.01335753, -1.86216495, -0.70141097,  0.51130171,\n",
       "         -0.34492055, -0.04726182, -0.62498209],\n",
       "        [-0.97022442,  0.97296588,  0.99678295,  2.30633458,\n",
       "         -0.42066755,  0.08218931, -1.8923733 , -1.08775941,\n",
       "         -0.2716819 ,  0.44203167, -0.82479476, -0.98407703,\n",
       "          1.60624064,  0.51023852,  0.3972291 ],\n",
       "        [ 0.35207067,  0.11284937, -0.54157686, -1.85973294,\n",
       "         -0.95971058, -1.32378146,  1.26524094, -1.50083564,\n",
       "         -1.65994152,  0.28883427,  0.39330015, -0.53676243,\n",
       "         -0.41803749, -0.72648166,  0.06556847],\n",
       "        [ 0.33009733,  0.6294836 , -0.1155314 , -1.82765193,\n",
       "          0.34599245, -3.17066906, -1.31847801, -0.78477975,\n",
       "          1.18561333,  0.59432175, -1.54641484,  0.51967393,\n",
       "          0.24571702,  0.24854407,  0.29764758],\n",
       "        [ 0.39623508, -0.09904888,  0.06642936, -0.42407164,\n",
       "          0.9094894 ,  1.0713182 ,  1.57837637, -0.43853017,\n",
       "          0.93388772, -0.17753332,  1.38616069,  0.15762199,\n",
       "         -1.16152349, -0.5789115 , -0.28670182],\n",
       "        [-0.88591787,  1.17192689, -0.98686686,  0.60045553,\n",
       "         -1.75107926,  0.95283556, -2.35663036, -0.95638534,\n",
       "         -0.43946942,  0.52201046, -1.43317293, -0.43369314,\n",
       "         -1.21248155,  0.13700461,  0.44081445]]])"
      ]
     },
     "execution_count": 22,
     "metadata": {},
     "output_type": "execute_result"
    }
   ],
   "source": [
    "b"
   ]
  },
  {
   "cell_type": "code",
   "execution_count": 96,
   "id": "bc883310-0b67-41d7-917a-e931d62861be",
   "metadata": {},
   "outputs": [],
   "source": [
    "Yp,ht = forward(M[0],M[1],W,b)"
   ]
  },
  {
   "cell_type": "code",
   "execution_count": 75,
   "id": "bd15c365-85a0-419e-8ac4-7af15890b424",
   "metadata": {},
   "outputs": [
    {
     "data": {
      "text/plain": [
       "(190, 1)"
      ]
     },
     "execution_count": 75,
     "metadata": {},
     "output_type": "execute_result"
    }
   ],
   "source": [
    "Yp.shape"
   ]
  },
  {
   "cell_type": "code",
   "execution_count": 76,
   "id": "2c215542-272a-4663-a0bf-5f70d806cced",
   "metadata": {},
   "outputs": [
    {
     "data": {
      "text/plain": [
       "(15,)"
      ]
     },
     "execution_count": 76,
     "metadata": {},
     "output_type": "execute_result"
    }
   ],
   "source": [
    "ht.shape"
   ]
  },
  {
   "cell_type": "code",
   "execution_count": 109,
   "id": "0e2bd651-569d-48a2-a0e4-52974e705890",
   "metadata": {},
   "outputs": [
    {
     "data": {
      "text/plain": [
       "(190, 15)"
      ]
     },
     "execution_count": 109,
     "metadata": {},
     "output_type": "execute_result"
    }
   ],
   "source": [
    "M[1].shape"
   ]
  },
  {
   "cell_type": "code",
   "execution_count": 97,
   "id": "c88a0556-411f-459d-a7ae-5da02bcf7e7b",
   "metadata": {},
   "outputs": [],
   "source": [
    "zt = (Y-Yp)"
   ]
  },
  {
   "cell_type": "code",
   "execution_count": 98,
   "id": "77c549b8-3984-4351-80ea-5e0b70d3649d",
   "metadata": {},
   "outputs": [],
   "source": [
    "dw = M[1].T.dot(zt)"
   ]
  },
  {
   "cell_type": "code",
   "execution_count": 99,
   "id": "4b25505b-2737-4013-9e08-5430dedccbde",
   "metadata": {},
   "outputs": [],
   "source": [
    "zt1 = (zt).dot(W[2].T)*M[1]"
   ]
  },
  {
   "cell_type": "code",
   "execution_count": 101,
   "id": "65a71d5c-9bcc-4420-ae6c-e41b544010c5",
   "metadata": {},
   "outputs": [],
   "source": [
    "dw1 = M[1].T.dot(zt1)"
   ]
  },
  {
   "cell_type": "code",
   "execution_count": 102,
   "id": "b8a23fd4-0faa-49da-8e40-53f940f28c49",
   "metadata": {},
   "outputs": [],
   "source": [
    "zt2 = (zt1).dot(W[1].T)*M[1]"
   ]
  },
  {
   "cell_type": "code",
   "execution_count": 103,
   "id": "6ee1caa4-7386-4037-b72e-926849c838c7",
   "metadata": {},
   "outputs": [],
   "source": [
    "dw2 = M[0].T.dot(zt2)"
   ]
  },
  {
   "cell_type": "code",
   "execution_count": 107,
   "id": "01cd15d0-3800-4d31-a452-8430b5816c2b",
   "metadata": {},
   "outputs": [
    {
     "data": {
      "text/plain": [
       "(1, 10, 15)"
      ]
     },
     "execution_count": 107,
     "metadata": {},
     "output_type": "execute_result"
    }
   ],
   "source": [
    "dw2.shape"
   ]
  },
  {
   "cell_type": "code",
   "execution_count": 135,
   "id": "a19dd63c-3719-40a5-ad40-e5f2cfa04ab8",
   "metadata": {},
   "outputs": [
    {
     "data": {
      "text/plain": [
       "array([[ 0.1060014 ],\n",
       "       [ 0.39556017],\n",
       "       [ 0.16938157],\n",
       "       [ 0.01540116],\n",
       "       [-0.03805512],\n",
       "       [-0.23079295],\n",
       "       [ 0.18028551],\n",
       "       [-0.54922265],\n",
       "       [ 0.65635429],\n",
       "       [ 0.12996523],\n",
       "       [-0.21637776],\n",
       "       [-0.20214289],\n",
       "       [-0.19526826],\n",
       "       [ 0.27936436],\n",
       "       [ 0.19545811]])"
      ]
     },
     "execution_count": 135,
     "metadata": {},
     "output_type": "execute_result"
    }
   ],
   "source": [
    "W[2] + dw"
   ]
  },
  {
   "cell_type": "code",
   "execution_count": 118,
   "id": "5bbc27bc-6ee0-49d0-bdf6-555b8a836070",
   "metadata": {},
   "outputs": [],
   "source": [
    "y1 = Y.reshape(N,-1)"
   ]
  },
  {
   "cell_type": "code",
   "execution_count": 136,
   "id": "43f8584a-a6e8-4e96-8554-5d685b14a51c",
   "metadata": {},
   "outputs": [],
   "source": [
    "re = x[0][1].dot(W[0]) + M[1][0].dot(W[1]) + b[0]"
   ]
  },
  {
   "cell_type": "code",
   "execution_count": 32,
   "id": "86dbfb74-c9d7-42db-8e27-8ea02b52d3ea",
   "metadata": {},
   "outputs": [],
   "source": [
    "ht_p = M[1]"
   ]
  },
  {
   "cell_type": "code",
   "execution_count": 33,
   "id": "0c3495a7-877d-425b-a2df-a4495d352b05",
   "metadata": {},
   "outputs": [],
   "source": [
    "re3 = sigmoid((M[0][0][0].dot(W[0]) + ht_p[0].dot(W[1]) + b[0]))"
   ]
  },
  {
   "cell_type": "code",
   "execution_count": 34,
   "id": "99b12dd2-194d-4c3e-aaa1-cdfa39c2d10c",
   "metadata": {},
   "outputs": [
    {
     "data": {
      "text/plain": [
       "(15,)"
      ]
     },
     "execution_count": 34,
     "metadata": {},
     "output_type": "execute_result"
    }
   ],
   "source": [
    "re3.shape"
   ]
  },
  {
   "cell_type": "code",
   "execution_count": 139,
   "id": "7c74849e-38c5-4cf4-afe0-bf6e5b00bf03",
   "metadata": {},
   "outputs": [],
   "source": [
    "re1 = re.dot(W[2]) + b[1]"
   ]
  },
  {
   "cell_type": "code",
   "execution_count": 141,
   "id": "53e073f3-d9c9-4591-a566-34fcaeed7b6e",
   "metadata": {},
   "outputs": [
    {
     "data": {
      "text/plain": [
       "15"
      ]
     },
     "execution_count": 141,
     "metadata": {},
     "output_type": "execute_result"
    }
   ],
   "source": [
    "len(re1)"
   ]
  },
  {
   "cell_type": "code",
   "execution_count": 148,
   "id": "7f01e3c0-6d84-4f6e-8b2a-4abf98f0f29d",
   "metadata": {},
   "outputs": [],
   "source": [
    "re2 = re1.reshape(len(re1),-1)"
   ]
  },
  {
   "cell_type": "code",
   "execution_count": 147,
   "id": "f93024be-9834-47f9-b1dd-eb52d3531c0d",
   "metadata": {},
   "outputs": [
    {
     "data": {
      "text/plain": [
       "array([-0.32032633, -0.30753756, -0.06444399, -0.3179915 , -0.35411167,\n",
       "       -0.43051232, -0.30951572, -0.51114223, -0.1661792 , -0.78485887,\n",
       "       -0.27389987, -0.02894201,  0.28752142, -0.49888721,  0.10897052])"
      ]
     },
     "execution_count": 147,
     "metadata": {},
     "output_type": "execute_result"
    }
   ],
   "source": [
    "re1"
   ]
  },
  {
   "cell_type": "code",
   "execution_count": 149,
   "id": "d93e9640-585c-40d0-8a33-4256f6917fe7",
   "metadata": {},
   "outputs": [],
   "source": [
    "sof = softmax(re2)"
   ]
  },
  {
   "cell_type": "code",
   "execution_count": 150,
   "id": "e2b4f981-1848-439c-b674-474e0bd6e853",
   "metadata": {
    "collapsed": true,
    "jupyter": {
     "outputs_hidden": true
    },
    "tags": []
   },
   "outputs": [
    {
     "data": {
      "text/plain": [
       "array([[1.],\n",
       "       [1.],\n",
       "       [1.],\n",
       "       [1.],\n",
       "       [1.],\n",
       "       [1.],\n",
       "       [1.],\n",
       "       [1.],\n",
       "       [1.],\n",
       "       [1.],\n",
       "       [1.],\n",
       "       [1.],\n",
       "       [1.],\n",
       "       [1.],\n",
       "       [1.]])"
      ]
     },
     "execution_count": 150,
     "metadata": {},
     "output_type": "execute_result"
    }
   ],
   "source": [
    "sof"
   ]
  },
  {
   "cell_type": "code",
   "execution_count": 152,
   "id": "ae2fa941-6321-4d49-b1b5-8396efb055ef",
   "metadata": {
    "collapsed": true,
    "jupyter": {
     "outputs_hidden": true
    },
    "tags": []
   },
   "outputs": [
    {
     "data": {
      "text/plain": [
       "array([[-0.32032633],\n",
       "       [-0.30753756],\n",
       "       [-0.06444399],\n",
       "       [-0.3179915 ],\n",
       "       [-0.35411167],\n",
       "       [-0.43051232],\n",
       "       [-0.30951572],\n",
       "       [-0.51114223],\n",
       "       [-0.1661792 ],\n",
       "       [-0.78485887],\n",
       "       [-0.27389987],\n",
       "       [-0.02894201],\n",
       "       [ 0.28752142],\n",
       "       [-0.49888721],\n",
       "       [ 0.10897052]])"
      ]
     },
     "execution_count": 152,
     "metadata": {},
     "output_type": "execute_result"
    }
   ],
   "source": [
    "re2"
   ]
  },
  {
   "cell_type": "code",
   "execution_count": null,
   "id": "bcede96d-413c-4946-b4fc-c37d312de427",
   "metadata": {},
   "outputs": [],
   "source": []
  }
 ],
 "metadata": {
  "kernelspec": {
   "display_name": "Python 3 (ipykernel)",
   "language": "python",
   "name": "python3"
  },
  "language_info": {
   "codemirror_mode": {
    "name": "ipython",
    "version": 3
   },
   "file_extension": ".py",
   "mimetype": "text/x-python",
   "name": "python",
   "nbconvert_exporter": "python",
   "pygments_lexer": "ipython3",
   "version": "3.8.8"
  }
 },
 "nbformat": 4,
 "nbformat_minor": 5
}
